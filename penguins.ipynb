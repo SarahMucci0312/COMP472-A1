{
 "cells": [
  {
   "cell_type": "code",
   "execution_count": 1,
   "metadata": {},
   "outputs": [],
   "source": [
    "# Basic Imports\n",
    "import matplotlib.pyplot as plt\n",
    "import pandas as pd"
   ]
  },
  {
   "cell_type": "code",
   "execution_count": 2,
   "metadata": {},
   "outputs": [],
   "source": [
    "# Load CSV file\n",
    "penguins = pd.read_csv(\"penguins.csv\")"
   ]
  },
  {
   "cell_type": "code",
   "execution_count": 3,
   "metadata": {},
   "outputs": [
    {
     "data": {
      "text/html": [
       "<div>\n",
       "<style scoped>\n",
       "    .dataframe tbody tr th:only-of-type {\n",
       "        vertical-align: middle;\n",
       "    }\n",
       "\n",
       "    .dataframe tbody tr th {\n",
       "        vertical-align: top;\n",
       "    }\n",
       "\n",
       "    .dataframe thead th {\n",
       "        text-align: right;\n",
       "    }\n",
       "</style>\n",
       "<table border=\"1\" class=\"dataframe\">\n",
       "  <thead>\n",
       "    <tr style=\"text-align: right;\">\n",
       "      <th></th>\n",
       "      <th>species</th>\n",
       "      <th>island</th>\n",
       "      <th>culmen_length_mm</th>\n",
       "      <th>culmen_depth_mm</th>\n",
       "      <th>flipper_length_mm</th>\n",
       "      <th>body_mass_g</th>\n",
       "      <th>sex</th>\n",
       "    </tr>\n",
       "  </thead>\n",
       "  <tbody>\n",
       "    <tr>\n",
       "      <th>214</th>\n",
       "      <td>Gentoo</td>\n",
       "      <td>Biscoe</td>\n",
       "      <td>46.1</td>\n",
       "      <td>13.2</td>\n",
       "      <td>211</td>\n",
       "      <td>4500</td>\n",
       "      <td>FEMALE</td>\n",
       "    </tr>\n",
       "    <tr>\n",
       "      <th>223</th>\n",
       "      <td>Gentoo</td>\n",
       "      <td>Biscoe</td>\n",
       "      <td>46.8</td>\n",
       "      <td>15.4</td>\n",
       "      <td>215</td>\n",
       "      <td>5150</td>\n",
       "      <td>MALE</td>\n",
       "    </tr>\n",
       "    <tr>\n",
       "      <th>289</th>\n",
       "      <td>Gentoo</td>\n",
       "      <td>Biscoe</td>\n",
       "      <td>51.1</td>\n",
       "      <td>16.3</td>\n",
       "      <td>220</td>\n",
       "      <td>6000</td>\n",
       "      <td>MALE</td>\n",
       "    </tr>\n",
       "    <tr>\n",
       "      <th>244</th>\n",
       "      <td>Gentoo</td>\n",
       "      <td>Biscoe</td>\n",
       "      <td>42.8</td>\n",
       "      <td>14.2</td>\n",
       "      <td>209</td>\n",
       "      <td>4700</td>\n",
       "      <td>FEMALE</td>\n",
       "    </tr>\n",
       "    <tr>\n",
       "      <th>282</th>\n",
       "      <td>Gentoo</td>\n",
       "      <td>Biscoe</td>\n",
       "      <td>47.7</td>\n",
       "      <td>15.0</td>\n",
       "      <td>216</td>\n",
       "      <td>4750</td>\n",
       "      <td>FEMALE</td>\n",
       "    </tr>\n",
       "  </tbody>\n",
       "</table>\n",
       "</div>"
      ],
      "text/plain": [
       "    species  island  culmen_length_mm  culmen_depth_mm  flipper_length_mm  \\\n",
       "214  Gentoo  Biscoe              46.1             13.2                211   \n",
       "223  Gentoo  Biscoe              46.8             15.4                215   \n",
       "289  Gentoo  Biscoe              51.1             16.3                220   \n",
       "244  Gentoo  Biscoe              42.8             14.2                209   \n",
       "282  Gentoo  Biscoe              47.7             15.0                216   \n",
       "\n",
       "     body_mass_g     sex  \n",
       "214         4500  FEMALE  \n",
       "223         5150    MALE  \n",
       "289         6000    MALE  \n",
       "244         4700  FEMALE  \n",
       "282         4750  FEMALE  "
      ]
     },
     "execution_count": 3,
     "metadata": {},
     "output_type": "execute_result"
    }
   ],
   "source": [
    "# This is just to have a look at the data\n",
    "# Should be deleted later\n",
    "penguins.sample(5)"
   ]
  },
  {
   "cell_type": "code",
   "execution_count": 4,
   "metadata": {},
   "outputs": [
    {
     "data": {
      "text/plain": [
       "species\n",
       "Adelie       43.843844\n",
       "Gentoo       35.735736\n",
       "Chinstrap    20.420420\n",
       "Name: proportion, dtype: float64"
      ]
     },
     "execution_count": 4,
     "metadata": {},
     "output_type": "execute_result"
    }
   ],
   "source": [
    "# Percentages of each output class ---needs to be sent to .gif file\n",
    "penguins['species'].value_counts(normalize=True) * 100"
   ]
  },
  {
   "cell_type": "code",
   "execution_count": 5,
   "metadata": {},
   "outputs": [],
   "source": [
    "# Sci-kit learn imports\n",
    "from sklearn import tree\n",
    "from sklearn import preprocessing\n",
    "from sklearn.model_selection import train_test_split"
   ]
  },
  {
   "cell_type": "code",
   "execution_count": 9,
   "metadata": {},
   "outputs": [],
   "source": [
    "# Convert dataset to numpy array and split into features/target\n",
    "penguins_dataset = penguins.to_numpy()\n",
    "X = penguins_dataset[:, 1:7]\n",
    "y = penguins_dataset[:, 0]"
   ]
  },
  {
   "cell_type": "code",
   "execution_count": 10,
   "metadata": {},
   "outputs": [],
   "source": [
    "# Convert features to 1-hot vectors\n",
    "le = preprocessing.LabelEncoder()\n",
    "for feature in [0,5]:\n",
    "    X[:,feature] = le.fit_transform(X[:,feature])"
   ]
  },
  {
   "cell_type": "code",
   "execution_count": 18,
   "metadata": {},
   "outputs": [
    {
     "data": {
      "text/plain": [
       "[Text(0.5714285714285714, 0.9166666666666666, 'x[3] <= 207.5\\ngini = 0.646\\nsamples = 266\\nvalue = [107, 58, 101]'),\n",
       " Text(0.35714285714285715, 0.75, 'x[1] <= 44.65\\ngini = 0.455\\nsamples = 160\\nvalue = [105, 54, 1]'),\n",
       " Text(0.14285714285714285, 0.5833333333333334, 'x[1] <= 42.35\\ngini = 0.056\\nsamples = 105\\nvalue = [102, 3, 0]'),\n",
       " Text(0.07142857142857142, 0.4166666666666667, 'gini = 0.0\\nsamples = 96\\nvalue = [96, 0, 0]'),\n",
       " Text(0.21428571428571427, 0.4166666666666667, 'x[5] <= 0.5\\ngini = 0.444\\nsamples = 9\\nvalue = [6, 3, 0]'),\n",
       " Text(0.14285714285714285, 0.25, 'gini = 0.0\\nsamples = 3\\nvalue = [0, 3, 0]'),\n",
       " Text(0.2857142857142857, 0.25, 'gini = 0.0\\nsamples = 6\\nvalue = [6, 0, 0]'),\n",
       " Text(0.5714285714285714, 0.5833333333333334, 'x[0] <= 1.5\\ngini = 0.137\\nsamples = 55\\nvalue = [3, 51, 1]'),\n",
       " Text(0.5, 0.4166666666666667, 'x[0] <= 0.5\\ngini = 0.073\\nsamples = 53\\nvalue = [1, 51, 1]'),\n",
       " Text(0.42857142857142855, 0.25, 'x[1] <= 47.0\\ngini = 0.5\\nsamples = 2\\nvalue = [1, 0, 1]'),\n",
       " Text(0.35714285714285715, 0.08333333333333333, 'gini = 0.0\\nsamples = 1\\nvalue = [1, 0, 0]'),\n",
       " Text(0.5, 0.08333333333333333, 'gini = 0.0\\nsamples = 1\\nvalue = [0, 0, 1]'),\n",
       " Text(0.5714285714285714, 0.25, 'gini = 0.0\\nsamples = 51\\nvalue = [0, 51, 0]'),\n",
       " Text(0.6428571428571429, 0.4166666666666667, 'gini = 0.0\\nsamples = 2\\nvalue = [2, 0, 0]'),\n",
       " Text(0.7857142857142857, 0.75, 'x[0] <= 0.5\\ngini = 0.108\\nsamples = 106\\nvalue = [2, 4, 100]'),\n",
       " Text(0.7142857142857143, 0.5833333333333334, 'gini = 0.0\\nsamples = 100\\nvalue = [0, 0, 100]'),\n",
       " Text(0.8571428571428571, 0.5833333333333334, 'x[2] <= 18.95\\ngini = 0.444\\nsamples = 6\\nvalue = [2, 4, 0]'),\n",
       " Text(0.7857142857142857, 0.4166666666666667, 'gini = 0.0\\nsamples = 2\\nvalue = [2, 0, 0]'),\n",
       " Text(0.9285714285714286, 0.4166666666666667, 'gini = 0.0\\nsamples = 4\\nvalue = [0, 4, 0]')]"
      ]
     },
     "execution_count": 18,
     "metadata": {},
     "output_type": "execute_result"
    },
    {
     "data": {
      "image/png": "[encoded data removed]",
      "text/plain": [
       "<Figure size 640x480 with 1 Axes>"
      ]
     },
     "metadata": {},
     "output_type": "display_data"
    }
   ],
   "source": [
    "# Split the dataset into training and testing set\n",
    "X_train, X_test, y_train, y_test = train_test_split(X, y, test_size=0.2, random_state=0)\n",
    "\n",
    "dtc = tree.DecisionTreeClassifier()\n",
    "dtc.fit(X_train, y_train)\n",
    "\n",
    "# Base DT\n",
    "tree.plot_tree(dtc)"
   ]
  },
  {
   "cell_type": "code",
   "execution_count": null,
   "metadata": {},
   "outputs": [],
   "source": [
    "# Top DT --incomplete\n",
    "# To-do: Mess with values and display new tree\n",
    "tree_para = {'criterion':['gini','entropy'],'max_depth':['None',4,8], 'min_samples_split':[5,10]}\n",
    "clf = GridSearchCV(dtc, tree_para)\n",
    "clf.fit(X_train,y_train)\n",
    "clf.best_estimator_"
   ]
  }
 ],
 "metadata": {
  "kernelspec": {
   "display_name": "Python 3",
   "language": "python",
   "name": "python3"
  },
  "language_info": {
   "codemirror_mode": {
    "name": "ipython",
    "version": 3
   },
   "file_extension": ".py",
   "mimetype": "text/x-python",
   "name": "python",
   "nbconvert_exporter": "python",
   "pygments_lexer": "ipython3",
   "version": "3.11.6"
  }
 },
 "nbformat": 4,
 "nbformat_minor": 2
}
